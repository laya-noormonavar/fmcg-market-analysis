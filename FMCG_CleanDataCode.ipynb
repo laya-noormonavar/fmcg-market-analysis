{
 "cells": [
  {
   "cell_type": "code",
   "execution_count": 9,
   "id": "0c6fb2ce-8488-4d8b-9b39-e629be4cfae0",
   "metadata": {},
   "outputs": [
    {
     "name": "stdout",
     "output_type": "stream",
     "text": [
      "                              product_name     price      metric sub_category  \\\n",
      "0               پنیر خامه ای پرچرب ماردینی   71820.0  ارزان‌ترین       CHEESE   \n",
      "1                 پنیر سفید نیم چرب روزانه  152520.0  ارزان‌ترین       CHEESE   \n",
      "2       پنیر سفید نیم چرب پروبیوتیک روزانه  161700.0  ارزان‌ترین       CHEESE   \n",
      "3  پنیر پیتزا تاپینگ مخلوط رنده شده نیک شف  302400.0  ارزان‌ترین       CHEESE   \n",
      "4   پنیر تاپینگ پیتزا کم چرب رنده شده کاله  411810.0  ارزان‌ترین       CHEESE   \n",
      "\n",
      "  fmcg_category        date  ranking platform_name date_miladi  \n",
      "0         DAIRY  1403/05/22        1        Snapp!  2024-08-12  \n",
      "1         DAIRY  1403/05/22        2        Snapp!  2024-08-12  \n",
      "2         DAIRY  1403/05/22        3        Snapp!  2024-08-12  \n",
      "3         DAIRY  1403/05/22        4        Snapp!  2024-08-12  \n",
      "4         DAIRY  1403/05/22        5        Snapp!  2024-08-12  \n"
     ]
    }
   ],
   "source": [
    "import pandas as pd\n",
    "import jdatetime\n",
    "\n",
    "# 1. خواندن فایل CSV\n",
    "df = pd.read_csv(\"D:\\Laya\\DataScience\\FANOOS\\بودجه-خانوار\\لعیا تهیه کرده\\FMCG-SCRAPPING\\dairy_all\\Dairy_all.csv\")\n",
    "\n",
    "# 2. اصلاح نام ستون‌ها\n",
    "df.columns = (\n",
    "    df.columns.str.strip()       # حذف فاصله اضافی\n",
    "    .str.lower()                 # حروف کوچک\n",
    "    .str.replace(\" \", \"_\")       # جایگزینی فاصله با _\n",
    ")\n",
    "\n",
    "# 3. پاکسازی متن در ستون‌های متنی\n",
    "for col in df.select_dtypes(include=[\"object\"]).columns:\n",
    "    df[col] = df[col].astype(str).str.strip()\n",
    "\n",
    "# 4. جایگزینی مقادیر نامشخص با None\n",
    "df = df.replace({\"نامشخص\": None, \"\": None})\n",
    "\n",
    "# 5. حذف رکوردهای تکراری\n",
    "df = df.drop_duplicates()\n",
    "\n",
    "# 6. تبدیل نوع داده‌ها\n",
    "df[\"price\"] = pd.to_numeric(df[\"price\"], errors=\"coerce\")\n",
    "df[\"ranking\"] = pd.to_numeric(df[\"ranking\"], errors=\"coerce\")\n",
    "\n",
    "# 7. ستون تاریخ شمسی به‌صورت رشته (همون‌طور که هست)\n",
    "df[\"date\"] = df[\"date\"].astype(str).str.replace(\"-\", \"/\")  # فقط یکدست‌سازی فرمت\n",
    "\n",
    "# 8. ایجاد ستون تاریخ میلادی\n",
    "def jalali_to_gregorian(date_str):\n",
    "    try:\n",
    "        y, m, d = map(int, date_str.replace(\"/\", \"-\").split(\"-\"))\n",
    "        return jdatetime.date(y, m, d).togregorian()\n",
    "    except:\n",
    "        return None\n",
    "\n",
    "df[\"date_miladi\"] = df[\"date\"].apply(jalali_to_gregorian)\n",
    "\n",
    "# 9. خروجی نهایی\n",
    "print(df.head())\n",
    "\n",
    "# ذخیره فایل پاکسازی‌شده\n",
    "df.to_csv(\"cleaned_Dairy.csv\", index=False)\n"
   ]
  },
  {
   "cell_type": "code",
   "execution_count": null,
   "id": "6d2001a3-ef06-4324-bdd5-8787ab2a5d49",
   "metadata": {},
   "outputs": [],
   "source": []
  }
 ],
 "metadata": {
  "kernelspec": {
   "display_name": "Python [conda env:base] *",
   "language": "python",
   "name": "conda-base-py"
  },
  "language_info": {
   "codemirror_mode": {
    "name": "ipython",
    "version": 3
   },
   "file_extension": ".py",
   "mimetype": "text/x-python",
   "name": "python",
   "nbconvert_exporter": "python",
   "pygments_lexer": "ipython3",
   "version": "3.11.5"
  }
 },
 "nbformat": 4,
 "nbformat_minor": 5
}
